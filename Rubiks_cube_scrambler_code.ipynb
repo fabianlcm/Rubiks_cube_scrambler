{
 "cells": [
  {
   "cell_type": "code",
   "execution_count": 100,
   "metadata": {},
   "outputs": [],
   "source": [
    "from random import randint\n",
    "\n",
    "# creating class\n",
    "class Rubik_Scrambler():\n",
    "    ''' \n",
    "    This program randomly generates a list of a 20 moves and outputs an algorithm used to scramble a Rubik's cube. \n",
    "    '''\n",
    "    \n",
    "    # defining constructor\n",
    "    def __init__(self):\n",
    "        \n",
    "        # dictionary containing all unique moves with their respective meaning\n",
    "        self.dictionary = {'R': 'Right', 'L': 'Left', 'U': 'Up', 'D': 'Down', 'B': 'Back', 'F': 'Front'}\n",
    "        \n",
    "        # list of unique moves\n",
    "        self.unique_moves = ['R', 'L', 'U', 'D', 'B', 'F']\n",
    "        \n",
    "        # list of the variations\n",
    "        self.variations = ['2', '\\'', '']\n",
    "        \n",
    "    # defining method that prints out the moves used in a rubik's cube    \n",
    "    def moves(self):\n",
    "        \n",
    "        # itering through the dictionary\n",
    "        for unique_move, definition in self.dictionary.items():\n",
    "            print(unique_move + ': ' + definition)\n",
    "        print(sep='\\n')\n",
    "        \n",
    "    # defining method that calculates the algorithm by combining unique moves with variations\n",
    "    def scramble(self):\n",
    "        \n",
    "        # creating empty list\n",
    "        scrambler = list()\n",
    "        \n",
    "        # initiating loop\n",
    "        while len(scrambler) <= 15:\n",
    "            # randomly selecting a unique move\n",
    "            unique_move = self.unique_moves[randint(0, len(self.unique_moves)-1)]\n",
    "            \n",
    "            # randomly selecting a variation\n",
    "            variation = self.variations[randint(0, len(self.variations)-1)]\n",
    "            \n",
    "            # join random unique move with random variation\n",
    "            move = unique_move + variation\n",
    "            \n",
    "            # adding first move when our list is empty\n",
    "            if len(scrambler) < 1:\n",
    "                scrambler.append(move)\n",
    "                \n",
    "            # if current unique move is similar to the last move appended in our list then ignore\n",
    "            elif unique_move in scrambler[-1]:\n",
    "                continue\n",
    "\n",
    "            else:\n",
    "                scrambler.append(move)\n",
    "        \n",
    "        # printing title\n",
    "        print('SCRAMBLE:', end=' ')\n",
    "        \n",
    "        # looping through our new random list to output the whole algorithm\n",
    "        for move in scrambler:\n",
    "            print(move, end=' ')"
   ]
  },
  {
   "cell_type": "code",
   "execution_count": 101,
   "metadata": {},
   "outputs": [],
   "source": [
    "# creating instance\n",
    "rubiks_cube = Rubik_Scrambler()"
   ]
  },
  {
   "cell_type": "code",
   "execution_count": 99,
   "metadata": {},
   "outputs": [
    {
     "name": "stdout",
     "output_type": "stream",
     "text": [
      "SCRAMBLE: B' U R L2 D2 U B L U2 B2 R2 D B' L2 R2 B2 "
     ]
    }
   ],
   "source": [
    "# calling method to output random algorithm to scramble rubiks cube\n",
    "rubiks_cube.scramble()"
   ]
  }
 ],
 "metadata": {
  "kernelspec": {
   "display_name": "Python 3",
   "language": "python",
   "name": "python3"
  },
  "language_info": {
   "codemirror_mode": {
    "name": "ipython",
    "version": 3
   },
   "file_extension": ".py",
   "mimetype": "text/x-python",
   "name": "python",
   "nbconvert_exporter": "python",
   "pygments_lexer": "ipython3",
   "version": "3.7.0"
  }
 },
 "nbformat": 4,
 "nbformat_minor": 2
}
